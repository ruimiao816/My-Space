{
 "cells": [
  {
   "cell_type": "markdown",
   "metadata": {},
   "source": [
    "## BEMM458 Final Assignment"
   ]
  },
  {
   "cell_type": "markdown",
   "metadata": {},
   "source": [
    "## You are a data scientist working for the European Union. There is an increasing concern inn  relation to the spread and amplification of misinformation on social media.\n",
    "\n",
    "## General management needs you to conduct an analysis of recent conversations posted on Twitter in relation to spain. You have to identify ongoing misinformation campaigns and profile those users contributing to the spread of misinformation.\n",
    "\n",
    "\n"
   ]
  },
  {
   "cell_type": "code",
   "execution_count": 29,
   "metadata": {},
   "outputs": [],
   "source": [
    "import pandas as pd"
   ]
  },
  {
   "cell_type": "code",
   "execution_count": 30,
   "metadata": {},
   "outputs": [
    {
     "data": {
      "text/html": [
       "<style>.container { width:100% !important; }</style>"
      ],
      "text/plain": [
       "<IPython.core.display.HTML object>"
      ]
     },
     "metadata": {},
     "output_type": "display_data"
    }
   ],
   "source": [
    "from IPython.core.display import display, HTML\n",
    "display(HTML(\"<style>.container { width:100% !important; }</style>\"))"
   ]
  },
  {
   "cell_type": "code",
   "execution_count": 31,
   "metadata": {},
   "outputs": [],
   "source": [
    "pd.set_option('display.max_rows', 120)"
   ]
  },
  {
   "cell_type": "code",
   "execution_count": 32,
   "metadata": {},
   "outputs": [],
   "source": [
    "pd.set_option('display.float_format', '{:.0f}'.format)"
   ]
  },
  {
   "cell_type": "code",
   "execution_count": 33,
   "metadata": {},
   "outputs": [],
   "source": [
    "spainEnglishAll=pd.read_csv('./data/BEMM458FinalAssignment.csv')"
   ]
  },
  {
   "cell_type": "code",
   "execution_count": null,
   "metadata": {},
   "outputs": [],
   "source": []
  },
  {
   "cell_type": "code",
   "execution_count": null,
   "metadata": {},
   "outputs": [],
   "source": []
  },
  {
   "cell_type": "code",
   "execution_count": 34,
   "metadata": {},
   "outputs": [
    {
     "data": {
      "text/plain": [
       "Index(['Unnamed: 0', 'tweeet.id', 'tweet.text', 'tweet.created_at',\n",
       "       'tweet.author_id', 'tweet.lang', 'public_metrics.retweet_count',\n",
       "       'public_metrics.reply_count', 'public_metrics.like_count'],\n",
       "      dtype='object')"
      ]
     },
     "execution_count": 34,
     "metadata": {},
     "output_type": "execute_result"
    }
   ],
   "source": [
    "spainEnglishAll.columns"
   ]
  },
  {
   "cell_type": "code",
   "execution_count": 35,
   "metadata": {},
   "outputs": [
    {
     "data": {
      "text/html": [
       "<div>\n",
       "<style scoped>\n",
       "    .dataframe tbody tr th:only-of-type {\n",
       "        vertical-align: middle;\n",
       "    }\n",
       "\n",
       "    .dataframe tbody tr th {\n",
       "        vertical-align: top;\n",
       "    }\n",
       "\n",
       "    .dataframe thead th {\n",
       "        text-align: right;\n",
       "    }\n",
       "</style>\n",
       "<table border=\"1\" class=\"dataframe\">\n",
       "  <thead>\n",
       "    <tr style=\"text-align: right;\">\n",
       "      <th></th>\n",
       "      <th>Unnamed: 0</th>\n",
       "      <th>tweeet.id</th>\n",
       "      <th>tweet.text</th>\n",
       "      <th>tweet.created_at</th>\n",
       "      <th>tweet.author_id</th>\n",
       "      <th>tweet.lang</th>\n",
       "      <th>public_metrics.retweet_count</th>\n",
       "      <th>public_metrics.reply_count</th>\n",
       "      <th>public_metrics.like_count</th>\n",
       "    </tr>\n",
       "  </thead>\n",
       "  <tbody>\n",
       "    <tr>\n",
       "      <th>0</th>\n",
       "      <td>0</td>\n",
       "      <td>1461484086892146692</td>\n",
       "      <td>RT @ESPNFC: EURO 2008 top scorer: Villa ⚽️\\nWorld Cup 2010 winner: Spain 🇪🇸\\n\\nEURO 2012 top scorer: Gomez ⚽️\\nWorld Cup 2014 winner: Germany…</td>\n",
       "      <td>2021-11-18 23:58:54+00:00</td>\n",
       "      <td>3239744421</td>\n",
       "      <td>en</td>\n",
       "      <td>1568</td>\n",
       "      <td>0</td>\n",
       "      <td>0</td>\n",
       "    </tr>\n",
       "    <tr>\n",
       "      <th>1</th>\n",
       "      <td>1</td>\n",
       "      <td>1461484079245840390</td>\n",
       "      <td>RT @MrGeepGeep: SOE is over and now is the time to Know Your Status! \\nFREE HIV AND STI Rapid testing in Port of Spain tomorrow!!!\\n📍 Locatio…</td>\n",
       "      <td>2021-11-18 23:58:52+00:00</td>\n",
       "      <td>2312771653</td>\n",
       "      <td>en</td>\n",
       "      <td>38</td>\n",
       "      <td>0</td>\n",
       "      <td>0</td>\n",
       "    </tr>\n",
       "    <tr>\n",
       "      <th>2</th>\n",
       "      <td>2</td>\n",
       "      <td>1461484043187462149</td>\n",
       "      <td>RT @AnittaCrave: \"Envolver\" — by Anitta will debut on LOS40 radio in Spain and Latin America this Sunday. https://t.co/c8DF1nGtLH</td>\n",
       "      <td>2021-11-18 23:58:43+00:00</td>\n",
       "      <td>1296857652677550080</td>\n",
       "      <td>en</td>\n",
       "      <td>90</td>\n",
       "      <td>0</td>\n",
       "      <td>0</td>\n",
       "    </tr>\n",
       "    <tr>\n",
       "      <th>3</th>\n",
       "      <td>3</td>\n",
       "      <td>1461483982105763842</td>\n",
       "      <td>Men jewelry  - Madrid, Spain \\n@GuilleRBRB https://t.co/3dqCTpoMKN</td>\n",
       "      <td>2021-11-18 23:58:29+00:00</td>\n",
       "      <td>1071703322166480768</td>\n",
       "      <td>en</td>\n",
       "      <td>0</td>\n",
       "      <td>0</td>\n",
       "      <td>5</td>\n",
       "    </tr>\n",
       "    <tr>\n",
       "      <th>4</th>\n",
       "      <td>4</td>\n",
       "      <td>1461483978658127872</td>\n",
       "      <td>RT @Foreign_Cat: #Turkey &amp;amp; #Spain, partners in crimes against human rights &amp;amp; int'l law: \"An alliance of 2 countries where permitting tortur…</td>\n",
       "      <td>2021-11-18 23:58:28+00:00</td>\n",
       "      <td>1142741725225652224</td>\n",
       "      <td>en</td>\n",
       "      <td>34</td>\n",
       "      <td>0</td>\n",
       "      <td>0</td>\n",
       "    </tr>\n",
       "    <tr>\n",
       "      <th>...</th>\n",
       "      <td>...</td>\n",
       "      <td>...</td>\n",
       "      <td>...</td>\n",
       "      <td>...</td>\n",
       "      <td>...</td>\n",
       "      <td>...</td>\n",
       "      <td>...</td>\n",
       "      <td>...</td>\n",
       "      <td>...</td>\n",
       "    </tr>\n",
       "    <tr>\n",
       "      <th>47545</th>\n",
       "      <td>47545</td>\n",
       "      <td>1461484434209783814</td>\n",
       "      <td>@only1womble @SimonJonesNews @pritipatel Someone is a bit upset because Spain doesn’t need lager louts as much as he was led to believe…. Poor gullible brexiter, my heart bleeds for the thickos.</td>\n",
       "      <td>2021-11-19 00:00:16+00:00</td>\n",
       "      <td>1733373504</td>\n",
       "      <td>en</td>\n",
       "      <td>0</td>\n",
       "      <td>0</td>\n",
       "      <td>0</td>\n",
       "    </tr>\n",
       "    <tr>\n",
       "      <th>47546</th>\n",
       "      <td>47546</td>\n",
       "      <td>1461484401712414722</td>\n",
       "      <td>RT @ancientorigins: A team of #scientists has not only found evidence of #mercury poisoning in ancient #Spain and Portugal, but it looks li…</td>\n",
       "      <td>2021-11-19 00:00:09+00:00</td>\n",
       "      <td>100887413</td>\n",
       "      <td>en</td>\n",
       "      <td>18</td>\n",
       "      <td>0</td>\n",
       "      <td>0</td>\n",
       "    </tr>\n",
       "    <tr>\n",
       "      <th>47547</th>\n",
       "      <td>47547</td>\n",
       "      <td>1461484391255977994</td>\n",
       "      <td>On #Friday Amazing time in #SabatiniGardens #Madrid which looks truly magnificent at #sunset. Love the sight at the #RoyalPalace #Travel #Spain #Sabatini Now on #YouTube: https://t.co/bvyyqoeCE1 https://t.co/8n5agUzA7W</td>\n",
       "      <td>2021-11-19 00:00:06+00:00</td>\n",
       "      <td>995441471938580352</td>\n",
       "      <td>en</td>\n",
       "      <td>0</td>\n",
       "      <td>0</td>\n",
       "      <td>1</td>\n",
       "    </tr>\n",
       "    <tr>\n",
       "      <th>47548</th>\n",
       "      <td>47548</td>\n",
       "      <td>1461484374558490625</td>\n",
       "      <td>RT @THEMAXHILTON: The wait is over !  you have been without me for more than 1 year but dreams come true ,,, the return to the most desired…</td>\n",
       "      <td>2021-11-19 00:00:02+00:00</td>\n",
       "      <td>832015137263452160</td>\n",
       "      <td>en</td>\n",
       "      <td>121</td>\n",
       "      <td>0</td>\n",
       "      <td>0</td>\n",
       "    </tr>\n",
       "    <tr>\n",
       "      <th>47549</th>\n",
       "      <td>47549</td>\n",
       "      <td>1461484366325035009</td>\n",
       "      <td>#Barcelona Nov 19 01:00 Temperature 10C Wind N 10 km/h  Humidity 86% Spain .. https://t.co/JzhA7xMOLA</td>\n",
       "      <td>2021-11-19 00:00:00+00:00</td>\n",
       "      <td>258025521</td>\n",
       "      <td>en</td>\n",
       "      <td>0</td>\n",
       "      <td>0</td>\n",
       "      <td>0</td>\n",
       "    </tr>\n",
       "  </tbody>\n",
       "</table>\n",
       "<p>47550 rows × 9 columns</p>\n",
       "</div>"
      ],
      "text/plain": [
       "       Unnamed: 0            tweeet.id  \\\n",
       "0               0  1461484086892146692   \n",
       "1               1  1461484079245840390   \n",
       "2               2  1461484043187462149   \n",
       "3               3  1461483982105763842   \n",
       "4               4  1461483978658127872   \n",
       "...           ...                  ...   \n",
       "47545       47545  1461484434209783814   \n",
       "47546       47546  1461484401712414722   \n",
       "47547       47547  1461484391255977994   \n",
       "47548       47548  1461484374558490625   \n",
       "47549       47549  1461484366325035009   \n",
       "\n",
       "                                                                                                                                                                                                                       tweet.text  \\\n",
       "0                                                                                  RT @ESPNFC: EURO 2008 top scorer: Villa ⚽️\\nWorld Cup 2010 winner: Spain 🇪🇸\\n\\nEURO 2012 top scorer: Gomez ⚽️\\nWorld Cup 2014 winner: Germany…   \n",
       "1                                                                                  RT @MrGeepGeep: SOE is over and now is the time to Know Your Status! \\nFREE HIV AND STI Rapid testing in Port of Spain tomorrow!!!\\n📍 Locatio…   \n",
       "2                                                                                               RT @AnittaCrave: \"Envolver\" — by Anitta will debut on LOS40 radio in Spain and Latin America this Sunday. https://t.co/c8DF1nGtLH   \n",
       "3                                                                                                                                                              Men jewelry  - Madrid, Spain \\n@GuilleRBRB https://t.co/3dqCTpoMKN   \n",
       "4                                                                            RT @Foreign_Cat: #Turkey &amp; #Spain, partners in crimes against human rights &amp; int'l law: \"An alliance of 2 countries where permitting tortur…   \n",
       "...                                                                                                                                                                                                                           ...   \n",
       "47545                          @only1womble @SimonJonesNews @pritipatel Someone is a bit upset because Spain doesn’t need lager louts as much as he was led to believe…. Poor gullible brexiter, my heart bleeds for the thickos.   \n",
       "47546                                                                                RT @ancientorigins: A team of #scientists has not only found evidence of #mercury poisoning in ancient #Spain and Portugal, but it looks li…   \n",
       "47547  On #Friday Amazing time in #SabatiniGardens #Madrid which looks truly magnificent at #sunset. Love the sight at the #RoyalPalace #Travel #Spain #Sabatini Now on #YouTube: https://t.co/bvyyqoeCE1 https://t.co/8n5agUzA7W   \n",
       "47548                                                                                RT @THEMAXHILTON: The wait is over !  you have been without me for more than 1 year but dreams come true ,,, the return to the most desired…   \n",
       "47549                                                                                                                       #Barcelona Nov 19 01:00 Temperature 10C Wind N 10 km/h  Humidity 86% Spain .. https://t.co/JzhA7xMOLA   \n",
       "\n",
       "                tweet.created_at     tweet.author_id tweet.lang  \\\n",
       "0      2021-11-18 23:58:54+00:00          3239744421         en   \n",
       "1      2021-11-18 23:58:52+00:00          2312771653         en   \n",
       "2      2021-11-18 23:58:43+00:00 1296857652677550080         en   \n",
       "3      2021-11-18 23:58:29+00:00 1071703322166480768         en   \n",
       "4      2021-11-18 23:58:28+00:00 1142741725225652224         en   \n",
       "...                          ...                 ...        ...   \n",
       "47545  2021-11-19 00:00:16+00:00          1733373504         en   \n",
       "47546  2021-11-19 00:00:09+00:00           100887413         en   \n",
       "47547  2021-11-19 00:00:06+00:00  995441471938580352         en   \n",
       "47548  2021-11-19 00:00:02+00:00  832015137263452160         en   \n",
       "47549  2021-11-19 00:00:00+00:00           258025521         en   \n",
       "\n",
       "       public_metrics.retweet_count  public_metrics.reply_count  \\\n",
       "0                              1568                           0   \n",
       "1                                38                           0   \n",
       "2                                90                           0   \n",
       "3                                 0                           0   \n",
       "4                                34                           0   \n",
       "...                             ...                         ...   \n",
       "47545                             0                           0   \n",
       "47546                            18                           0   \n",
       "47547                             0                           0   \n",
       "47548                           121                           0   \n",
       "47549                             0                           0   \n",
       "\n",
       "       public_metrics.like_count  \n",
       "0                              0  \n",
       "1                              0  \n",
       "2                              0  \n",
       "3                              5  \n",
       "4                              0  \n",
       "...                          ...  \n",
       "47545                          0  \n",
       "47546                          0  \n",
       "47547                          1  \n",
       "47548                          0  \n",
       "47549                          0  \n",
       "\n",
       "[47550 rows x 9 columns]"
      ]
     },
     "execution_count": 35,
     "metadata": {},
     "output_type": "execute_result"
    }
   ],
   "source": [
    "spainEnglishAll"
   ]
  },
  {
   "cell_type": "code",
   "execution_count": null,
   "metadata": {},
   "outputs": [],
   "source": []
  },
  {
   "cell_type": "markdown",
   "metadata": {},
   "source": [
    "## Question 1. Which twitter conversations have large levels of amplification ? (15 points)\n",
    "### Tip: consider number of retweets, likes, etc as proxies to measure the spread of information on social media"
   ]
  },
  {
   "cell_type": "markdown",
   "metadata": {},
   "source": []
  },
  {
   "cell_type": "code",
   "execution_count": null,
   "metadata": {},
   "outputs": [],
   "source": []
  },
  {
   "cell_type": "markdown",
   "metadata": {},
   "source": [
    "## Question 2. Analysis of highly amplified conversations (15 points)\n",
    "\n",
    "### Please describe  5 highly amplified conversations which are trying to polarize or misinform.\n",
    "\n",
    "## Tip: given a tweet.id it is possible to have a detailed look at twitter by appending this id to the url: https://twitter.com/anyuser/status/\n",
    "\n",
    "\n",
    "### For instance given the tweet.id: 1461577564850319362 you can inspect its content by having a look at: https://twitter.com/anyuser/status/1461577564850319362\n",
    "\n"
   ]
  },
  {
   "cell_type": "markdown",
   "metadata": {},
   "source": []
  },
  {
   "cell_type": "code",
   "execution_count": null,
   "metadata": {},
   "outputs": [],
   "source": []
  },
  {
   "cell_type": "code",
   "execution_count": null,
   "metadata": {},
   "outputs": [],
   "source": []
  },
  {
   "cell_type": "code",
   "execution_count": null,
   "metadata": {},
   "outputs": [],
   "source": []
  },
  {
   "cell_type": "markdown",
   "metadata": {},
   "source": [
    "## Question 3. Compute the z-score of the column \"public_metrics.retweet_count\" (15 points)\n",
    "## tip: refer to the definition of Z-score at\" https://www.statisticshowto.com/probability-and-statistics/z-score/"
   ]
  },
  {
   "cell_type": "code",
   "execution_count": null,
   "metadata": {},
   "outputs": [],
   "source": []
  },
  {
   "cell_type": "code",
   "execution_count": null,
   "metadata": {},
   "outputs": [],
   "source": []
  },
  {
   "cell_type": "code",
   "execution_count": null,
   "metadata": {},
   "outputs": [],
   "source": []
  },
  {
   "cell_type": "code",
   "execution_count": null,
   "metadata": {},
   "outputs": [],
   "source": []
  },
  {
   "cell_type": "markdown",
   "metadata": {},
   "source": [
    "## Question 4. Filter conversations with a z-score larger than 10. (15 points)"
   ]
  },
  {
   "cell_type": "code",
   "execution_count": null,
   "metadata": {},
   "outputs": [],
   "source": []
  },
  {
   "cell_type": "code",
   "execution_count": null,
   "metadata": {},
   "outputs": [],
   "source": []
  },
  {
   "cell_type": "code",
   "execution_count": null,
   "metadata": {},
   "outputs": [],
   "source": []
  },
  {
   "cell_type": "code",
   "execution_count": null,
   "metadata": {},
   "outputs": [],
   "source": []
  },
  {
   "cell_type": "markdown",
   "metadata": {},
   "source": [
    "## Question 5. Find the top 5 amplifiers (15 points)\n",
    "### we consider amplifiers those twitter users who are involved in highly amplified conversations"
   ]
  },
  {
   "cell_type": "code",
   "execution_count": null,
   "metadata": {},
   "outputs": [],
   "source": []
  },
  {
   "cell_type": "code",
   "execution_count": null,
   "metadata": {},
   "outputs": [],
   "source": []
  },
  {
   "cell_type": "code",
   "execution_count": null,
   "metadata": {},
   "outputs": [],
   "source": []
  },
  {
   "cell_type": "markdown",
   "metadata": {},
   "source": [
    "## Question 6. Extract, from the text colum, information on who created the conversation in the first place (15 points)\n",
    "### Tip: retweeted conversations start with the pattern RT@\n",
    "### For illustration purposes, the text \"RT @20splentyforus: France, like UK should set a national 30km/h or 20mph urban default limit.\" was originally created by @20splentyforus\n",
    "### Tip2. consider applying a regex pattern to the DataFrame using apply method"
   ]
  },
  {
   "cell_type": "code",
   "execution_count": null,
   "metadata": {},
   "outputs": [],
   "source": []
  },
  {
   "cell_type": "code",
   "execution_count": null,
   "metadata": {},
   "outputs": [],
   "source": []
  },
  {
   "cell_type": "code",
   "execution_count": null,
   "metadata": {},
   "outputs": [],
   "source": []
  },
  {
   "cell_type": "code",
   "execution_count": null,
   "metadata": {},
   "outputs": [],
   "source": []
  },
  {
   "cell_type": "code",
   "execution_count": null,
   "metadata": {},
   "outputs": [],
   "source": []
  },
  {
   "cell_type": "markdown",
   "metadata": {},
   "source": [
    "## Question 7. Please briefly reflect on how would you try to mitigate misinformation on social media (2 paragraphs maximum). (10 points)"
   ]
  },
  {
   "cell_type": "code",
   "execution_count": null,
   "metadata": {},
   "outputs": [],
   "source": []
  },
  {
   "cell_type": "code",
   "execution_count": null,
   "metadata": {},
   "outputs": [],
   "source": []
  },
  {
   "cell_type": "code",
   "execution_count": null,
   "metadata": {},
   "outputs": [],
   "source": []
  },
  {
   "cell_type": "code",
   "execution_count": null,
   "metadata": {},
   "outputs": [],
   "source": []
  },
  {
   "cell_type": "code",
   "execution_count": null,
   "metadata": {},
   "outputs": [],
   "source": []
  },
  {
   "cell_type": "code",
   "execution_count": null,
   "metadata": {},
   "outputs": [],
   "source": []
  },
  {
   "cell_type": "code",
   "execution_count": null,
   "metadata": {},
   "outputs": [],
   "source": []
  },
  {
   "cell_type": "code",
   "execution_count": null,
   "metadata": {},
   "outputs": [],
   "source": []
  }
 ],
 "metadata": {
  "kernelspec": {
   "display_name": "Python 3",
   "language": "python",
   "name": "python3"
  },
  "language_info": {
   "codemirror_mode": {
    "name": "ipython",
    "version": 3
   },
   "file_extension": ".py",
   "mimetype": "text/x-python",
   "name": "python",
   "nbconvert_exporter": "python",
   "pygments_lexer": "ipython3",
   "version": "3.8.5"
  }
 },
 "nbformat": 4,
 "nbformat_minor": 4
}
